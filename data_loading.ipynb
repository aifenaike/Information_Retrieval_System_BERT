{
 "cells": [
  {
   "cell_type": "code",
   "execution_count": 1,
   "id": "a8b72dbe",
   "metadata": {},
   "outputs": [],
   "source": [
    "import time\n",
    "import numpy as np\n",
    "import pandas as pd\n",
    "import dask.dataframe as dd"
   ]
  },
  {
   "cell_type": "code",
   "execution_count": 2,
   "id": "c4662b06",
   "metadata": {},
   "outputs": [],
   "source": [
    "#load dataset containing queries. \n",
    "queries=pd.read_table(\"msmarco-doctrain-queries/queries.doctrain.tsv\",delimiter=\"\\t\")\n",
    "#load top 100 document relevant to each of these queries.\n",
    "top100_docs=pd.read_table('msmarco-doctrain-top100/msmarco-doctrain-top100',delimiter=' ')\n",
    "\n",
    "#defined column names\n",
    "queries.columns=['qid','query']\n",
    "top100_docs.columns=[\"qid\",\"Q0\",\"docid\",\"rank\",\"score\",\"runstring\"]"
   ]
  },
  {
   "cell_type": "code",
   "execution_count": 3,
   "id": "41a2249e",
   "metadata": {},
   "outputs": [
    {
     "data": {
      "text/html": [
       "<div>\n",
       "<style scoped>\n",
       "    .dataframe tbody tr th:only-of-type {\n",
       "        vertical-align: middle;\n",
       "    }\n",
       "\n",
       "    .dataframe tbody tr th {\n",
       "        vertical-align: top;\n",
       "    }\n",
       "\n",
       "    .dataframe thead th {\n",
       "        text-align: right;\n",
       "    }\n",
       "</style>\n",
       "<table border=\"1\" class=\"dataframe\">\n",
       "  <thead>\n",
       "    <tr style=\"text-align: right;\">\n",
       "      <th></th>\n",
       "      <th>docid</th>\n",
       "      <th>url</th>\n",
       "      <th>title</th>\n",
       "      <th>body</th>\n",
       "    </tr>\n",
       "  </thead>\n",
       "  <tbody>\n",
       "    <tr>\n",
       "      <th>0</th>\n",
       "      <td>D301595</td>\n",
       "      <td>http://childparenting.about.com/od/physicalemo...</td>\n",
       "      <td>Developmental Milestones and Your 8-Year-Old C...</td>\n",
       "      <td>School-Age Kids Growth &amp; Development Developme...</td>\n",
       "    </tr>\n",
       "    <tr>\n",
       "      <th>1</th>\n",
       "      <td>D1359209</td>\n",
       "      <td>http://visihow.com/Check_for_Lice_Nits</td>\n",
       "      <td>Check for Lice Nits</td>\n",
       "      <td>Check for Lice Nits Edited by Mian Sheilette O...</td>\n",
       "    </tr>\n",
       "    <tr>\n",
       "      <th>2</th>\n",
       "      <td>D2147834</td>\n",
       "      <td>http://www.nytimes.com/2010/01/05/business/glo...</td>\n",
       "      <td>Dubai Opens a Tower to Beat All</td>\n",
       "      <td>Global Business Dubai Opens a Tower to Beat Al...</td>\n",
       "    </tr>\n",
       "    <tr>\n",
       "      <th>3</th>\n",
       "      <td>D1568809</td>\n",
       "      <td>http://www.realtor.com/realestateandhomes-sear...</td>\n",
       "      <td>Coulterville, CA Real Estate &amp; Homes for Sale</td>\n",
       "      <td>Coulterville, CA Real Estate &amp; Homes for Sale4...</td>\n",
       "    </tr>\n",
       "    <tr>\n",
       "      <th>4</th>\n",
       "      <td>D3233725</td>\n",
       "      <td>http://www.akc.org/dog-breeds/dogo-argentino/c...</td>\n",
       "      <td>Dogo Argentino</td>\n",
       "      <td>Dogo Argentino Miscellaneous The Dogo Argentin...</td>\n",
       "    </tr>\n",
       "  </tbody>\n",
       "</table>\n",
       "</div>"
      ],
      "text/plain": [
       "      docid                                                url  \\\n",
       "0   D301595  http://childparenting.about.com/od/physicalemo...   \n",
       "1  D1359209             http://visihow.com/Check_for_Lice_Nits   \n",
       "2  D2147834  http://www.nytimes.com/2010/01/05/business/glo...   \n",
       "3  D1568809  http://www.realtor.com/realestateandhomes-sear...   \n",
       "4  D3233725  http://www.akc.org/dog-breeds/dogo-argentino/c...   \n",
       "\n",
       "                                               title  \\\n",
       "0  Developmental Milestones and Your 8-Year-Old C...   \n",
       "1                                Check for Lice Nits   \n",
       "2                    Dubai Opens a Tower to Beat All   \n",
       "3      Coulterville, CA Real Estate & Homes for Sale   \n",
       "4                                     Dogo Argentino   \n",
       "\n",
       "                                                body  \n",
       "0  School-Age Kids Growth & Development Developme...  \n",
       "1  Check for Lice Nits Edited by Mian Sheilette O...  \n",
       "2  Global Business Dubai Opens a Tower to Beat Al...  \n",
       "3  Coulterville, CA Real Estate & Homes for Sale4...  \n",
       "4  Dogo Argentino Miscellaneous The Dogo Argentin...  "
      ]
     },
     "execution_count": 3,
     "metadata": {},
     "output_type": "execute_result"
    }
   ],
   "source": [
    "#load dataset containing documents.\n",
    "docs=dd.read_table('msmarco-docs/msmarco-docs.tsv',blocksize=100e6)\n",
    "#defined column names\n",
    "docs.columns=[\"docid\",\"url\",\"title\",\"body\"]\n",
    "docs.head()"
   ]
  },
  {
   "cell_type": "code",
   "execution_count": 4,
   "id": "abdeafc5",
   "metadata": {},
   "outputs": [
    {
     "data": {
      "text/plain": [
       "docid        0\n",
       "url          0\n",
       "title    27291\n",
       "body     12014\n",
       "dtype: int64"
      ]
     },
     "execution_count": 4,
     "metadata": {},
     "output_type": "execute_result"
    }
   ],
   "source": [
    "docs.isna().sum(axis=0).compute()"
   ]
  },
  {
   "cell_type": "code",
   "execution_count": 5,
   "id": "0aa154fd",
   "metadata": {},
   "outputs": [
    {
     "data": {
      "text/plain": [
       "docid    0\n",
       "url      0\n",
       "title    0\n",
       "body     0\n",
       "dtype: int64"
      ]
     },
     "execution_count": 5,
     "metadata": {},
     "output_type": "execute_result"
    }
   ],
   "source": [
    "docs_ = docs.dropna()\n",
    "docs_.isna().sum(axis=0).compute()"
   ]
  },
  {
   "cell_type": "code",
   "execution_count": 6,
   "id": "1ea4040b",
   "metadata": {},
   "outputs": [],
   "source": [
    "queries['len']=queries['query'].apply(lambda x: len(x))\n",
    "lengthy_queries = queries[queries['len'] >=40]\n",
    "# Creating Training Set of Queries\n",
    "train_queries = lengthy_queries.sample(n=2000,replace=False,random_state=122)\n",
    "# Creating Testing Set of Queries\n",
    "merged_queries = queries.merge(lengthy_queries, how=\"left\",indicator=True)\n",
    "unassigned_queries = merged_queries[merged_queries['_merge']== 'left_only']\n",
    "test_queries = unassigned_queries.sample(n=700,replace=False,random_state=230)"
   ]
  },
  {
   "cell_type": "code",
   "execution_count": 7,
   "id": "0e331a6c",
   "metadata": {},
   "outputs": [],
   "source": [
    "unique_docids=docs_['docid'].unique().compute()"
   ]
  },
  {
   "cell_type": "code",
   "execution_count": 8,
   "id": "d61c7793",
   "metadata": {},
   "outputs": [],
   "source": [
    "def get_top_documents(queries):\n",
    "    '''\n",
    "    The function takes a set of queries and returns the top 10 and bottom 10 documents associated with the query from our dataset.\n",
    "    A label is given to the top 10 (1) as `relevant` and 0 to the bottom 10 as `irrelevant`.\n",
    "    '''\n",
    "    ## every unique query id in sampled data\n",
    "    query_ids=queries.qid.unique().tolist()\n",
    "    ## filter the top 100 docs by the taking samples of these query ids \n",
    "    condition1 = (top100_docs['qid'].isin(query_ids))\n",
    "    condition2 = (top100_docs['docid'].isin(unique_docids.values))\n",
    "    top_docs = top100_docs[condition1 & condition2].reset_index(drop=True)\n",
    "    ## Get relevance of top documents\n",
    "    relevant=list(range(1,11))\n",
    "    non_relevant=list(range(91,101))\n",
    "    top_docs['relevance']=top_docs['rank'].apply(lambda x: 1 if x in relevant else ( 0 if x in non_relevant else np.nan))\n",
    "    top_docs.dropna(inplace=True)\n",
    "    return top_docs"
   ]
  },
  {
   "cell_type": "code",
   "execution_count": 9,
   "id": "83d8fb45",
   "metadata": {},
   "outputs": [],
   "source": [
    "#get top documents for queries in test set.\n",
    "top_test_docs = get_top_documents(test_queries)\n",
    "#get top documents for queries in training set. \n",
    "top_train_docs = get_top_documents(train_queries)"
   ]
  },
  {
   "cell_type": "code",
   "execution_count": 10,
   "id": "82b8d20c",
   "metadata": {},
   "outputs": [
    {
     "name": "stdout",
     "output_type": "stream",
     "text": [
      "Number of Rows=> 37406\n",
      "Number of Rows=> 13669\n"
     ]
    }
   ],
   "source": [
    "def create_corpus(result):\n",
    "    unique_docid=result['docid'].unique()\n",
    "    condition=docs['docid'].isin(unique_docid)\n",
    "    corpus=docs[condition].reset_index(drop=True)\n",
    "    corpus=corpus.drop(columns='url')\n",
    "    print('Number of Rows=>',len(corpus))\n",
    "    return corpus.compute()\n",
    "\n",
    "training_corpus=create_corpus(top_train_docs)\n",
    "testing_corpus=create_corpus(top_test_docs)"
   ]
  },
  {
   "cell_type": "code",
   "execution_count": 11,
   "id": "07a689db",
   "metadata": {},
   "outputs": [],
   "source": [
    "#save training and testing corpus.\n",
    "training_corpus.to_csv(\"training_corpus.csv\",index=False)\n",
    "testing_corpus.to_csv(\"testing_corpus.csv\",index=False)"
   ]
  },
  {
   "cell_type": "code",
   "execution_count": 17,
   "id": "00497a3a",
   "metadata": {},
   "outputs": [],
   "source": [
    "#save training and testing corpus.\n",
    "train_queries.to_csv(\"train_queries.csv\",index=False)\n",
    "test_queries.to_csv(\"test_queries.csv\",index=False)"
   ]
  },
  {
   "cell_type": "code",
   "execution_count": 13,
   "id": "53f5051b",
   "metadata": {},
   "outputs": [
    {
     "name": "stdout",
     "output_type": "stream",
     "text": [
      "Title=> ['Wilmington, NC Airports']\n",
      "Body:\n",
      " ['Home Wilmington, NC Airports Wilmington, NC Airports About Search Results Sort: Default BBB Rated A+/AAll Filters Airfares - Up To 70% Off Call Toll Free For Lowest Fares Use \"CALLCENTER20\" - Extra 20% Offtripvers.com/Smart Fares1. ILM - Wilmington International Airport BBB Rating: A+1740 Airport Blvd Wilmington, NC 28405 (910) 341-4333Airports Website From Business: The Wilmington International Airport ILM Public Safety Department is a full service law enforcement agency responsible for all law enforcement and security respon…2. 17ID - Coyote Ridge Airport309 Putnam Dr Wilmington, NC 28411 (910) 686-4645Airports3. 03NC - Pilots Ridge Airport716 Pilots Ridge Rd Wilmington, NC 28412 (910) 617-6950Airports4. NC20 - Canaan Air Base Airport100 Cannon Rd Wilmington, NC 28411 (252) 633-0328Airports5. 7NC1 - Stag Air Park Airport245 Creekside East Dr Wilmington, NC 28411 (910) 686-9612Airports6. Airport Taxi Solutions1306 Grackle Ct Wilmington, NC 28403 (910) 279-7799Airports Airport Transportation From Business: The best pre-arranged taxi ,Low flat rates7. 77NC - Winnabow Airport310 Green Hill Rd NEWinnabow, NC 28479 (910) 253-6647Airports8. 33NC - Pettigrew Moore Aerodrome Airport4004 Borough Rd Currie, NC 28435 (910) 283-5498Airports9. Brunswick Air (2)4019 Long Beach Rd SESouthport, NC 28461 (910) 363-4334Airports Website10. 01NC - Topsail Airpark Airport108 Inlet Ct Hampstead, NC 28443 (910) 270-2607Airports11. SUT - Cape Fear Regional Jetport/Howie Franklin Field Airport4019 Long Beach Rd SESouthport, NC 28461 (910) 457-6483Airports Website12. OAJ - Albert J Ellis Airport (4)264 Albert Ellis Airport Rd Richlands, NC 28574 (910) 324-1100Airports Website Knowing this is a small airport, I didn\\'t expect the red carpet treatment. It is an easy in and out type of airport. I like that. People were frien…13. 8NC3 - Winding Creek Airport333 Betty Dixon Rd Sneads Ferry, NC 28460 (910) 382-1295Airports14. Wallace Airport250 Henderson Field Rd Wallace, NC 28466 (910) 285-6642Airports Website15. CRE - Grand Strand Airport2800 Terminal St North Myrtle Beach, SC 29582 (843) 848-7400Airports Website16. Columbus County Government467 Airport Rd Whiteville, NC 28472 (910) 642-6187Airports County & Parish Government Website17. NR82 - Carolina Bay Airport9782 Lebanon Church Rd Clarendon, NC 28432 (910) 840-7957Airports18. Cox Field-81nc6952 Ramsey Ford Rd Tabor City, NC 28463 (910) 653-2403Airports19. NC78 - Turbeville Airport7528 Swamp Fox Hwy WTabor City, NC 28463 (910) 649-7210Airports20. N21 - Holly Ridge/Topsail Island Airport142 Stump Sound Church Rd Holly Ridge, NC 28445 (910) 329-0179Airports21. 60J - Odell Williamson Municipal Airport6070 Beach Dr SWOcean Isle Beach, NC 28469 (910) 579-6152Airports Website22. 2NR2 - Elkins Field Airport6253 Elkton Rd Clarkton, NC 28433 (910) 876-0908Airports23. EYF - Curtis L Brown Jr Field Airport466 Airport Rd Elizabethtown, NC 28337 (910) 862-4522Airports Website24. NC82 - Dublin Field Airport1065 Rice Pond Rd Elizabethtown, NC 28337 (910) 862-4165Airports25. SC21 - Myrtle Beach Hardee Airpark Airport211 Mooney Ct Loris, SC 29569 (843) 602-8220Airports26. 6N9 - Eagles Nest Airport1553 N Nc Highway 41Pink Hill, NC 28572 (910) 298-3567Airports27. Boggs Avionics Inc4019 Long Beach Road Oak Island, NC 28465 (910) 246-2644Airports Aircraft Dealers We found 27 results ']\n"
     ]
    }
   ],
   "source": [
    "temp_doc=training_corpus.sample(1)\n",
    "print('Title=>',temp_doc.title.values)\n",
    "print('Body:\\n',temp_doc.body.values)"
   ]
  },
  {
   "cell_type": "code",
   "execution_count": 15,
   "id": "7e18b335",
   "metadata": {},
   "outputs": [
    {
     "name": "stdout",
     "output_type": "stream",
     "text": [
      "0 => how many days it takes for canadian visa for work permit\n",
      "1 => how to check on the status of your tax refund check\n",
      "2 => how many hours difference between pst and gmt\n",
      "3 => what is the definition of neutron of an atom\n",
      "4 => how much money can you earn as an enrolled agent\n",
      "5 => where does intestinal bacteria come from\n",
      "6 => how far is centerville tn from nashville\n",
      "7 => when was washington admitted into the union\n",
      "8 => what kind of cases does internal affairs investigate?\n",
      "9 => how much do registered nurses make in a year?\n"
     ]
    }
   ],
   "source": [
    "for i,v in enumerate(train_queries['query'].sample(10)):\n",
    "    print(i,'=>',v)"
   ]
  }
 ],
 "metadata": {
  "kernelspec": {
   "display_name": "Python [conda env:faiss_env] *",
   "language": "python",
   "name": "conda-env-faiss_env-py"
  },
  "language_info": {
   "codemirror_mode": {
    "name": "ipython",
    "version": 3
   },
   "file_extension": ".py",
   "mimetype": "text/x-python",
   "name": "python",
   "nbconvert_exporter": "python",
   "pygments_lexer": "ipython3",
   "version": "3.7.13"
  }
 },
 "nbformat": 4,
 "nbformat_minor": 5
}
